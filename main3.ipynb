{
 "cells": [
  {
   "cell_type": "code",
   "execution_count": 1,
   "metadata": {},
   "outputs": [],
   "source": [
    "##ここだけ設定する---------------------------------------------------------------------\n",
    "##フレーズを先に指定する\n",
    "phrase = 'そんしつにめげないこうみん' #プロンプト文 f\n",
    "# phrase = 'おおどおりにめんしたまますいみん' #プロンプト文 b\n",
    "# phrase = 'のびるさんすいほーすはそんあいつぐせつびふび' #プロンプト文 a\n",
    "##-----------------------------------------------------------------------------------"
   ]
  },
  {
   "cell_type": "code",
   "execution_count": 2,
   "metadata": {},
   "outputs": [
    {
     "name": "stderr",
     "output_type": "stream",
     "text": [
      "c:\\Users\\kktak\\anaconda3\\envs\\myenv\\lib\\site-packages\\pydub\\utils.py:170: RuntimeWarning: Couldn't find ffmpeg or avconv - defaulting to ffmpeg, but may not work\n",
      "  warn(\"Couldn't find ffmpeg or avconv - defaulting to ffmpeg, but may not work\", RuntimeWarning)\n"
     ]
    },
    {
     "name": "stdout",
     "output_type": "stream",
     "text": [
      "['kitano']\n"
     ]
    }
   ],
   "source": [
    "import os, glob\n",
    "import librosa\n",
    "# from librosa import core\n",
    "import soundfile as sf\n",
    "import pandas as pd\n",
    "import subprocess\n",
    "\n",
    "import tkinter as tk\n",
    "from tkinter import filedialog\n",
    "\n",
    "#実行結果の「.lab」ファイルと元の音源(44.1kHz)からPNデータを導出し、DB（excel）に記録する。\n",
    "import shutil\n",
    "import my_func3 #自作のPND関数を呼び出す\n",
    "\n",
    "\n",
    "#フォルダ名を取得\n",
    "root = tk.Tk()# ルートウィンドウ作成\n",
    "root.withdraw()# ルートウィンドウの非表示\n",
    "idir =  './' #カレントディレクトリ\n",
    "dir_path = tk.filedialog.askdirectory(initialdir = idir)\n",
    "# dir_path = '../../音源/f/prompt_f_sonsitsu/'\n",
    "dir_list = os.listdir(dir_path)\n",
    "print(dir_list)\n",
    "\n"
   ]
  },
  {
   "cell_type": "code",
   "execution_count": 3,
   "metadata": {},
   "outputs": [
    {
     "name": "stdout",
     "output_type": "stream",
     "text": [
      "C:/Users/kktak/OneDrive/Desktop/pronpt_f_others/kitano\\20211029\\201110.wav\n",
      "201110\n",
      "C:/Users/kktak/OneDrive/Desktop/pronpt_f_others/kitano\\20211029\\201111.wav\n",
      "201111\n",
      "C:/Users/kktak/OneDrive/Desktop/pronpt_f_others/kitano\\20220617\\220617_001-01.wav\n",
      "220617_001-01\n",
      "C:/Users/kktak/OneDrive/Desktop/pronpt_f_others/kitano\\20220617\\220617_001-02.wav\n",
      "220617_001-02\n",
      "C:/Users/kktak/OneDrive/Desktop/pronpt_f_others/kitano\\20220617\\220617_001-03.wav\n",
      "220617_001-03\n",
      "C:/Users/kktak/OneDrive/Desktop/pronpt_f_others/kitano\\20220617\\220617_001-04.wav\n",
      "220617_001-04\n",
      "C:/Users/kktak/OneDrive/Desktop/pronpt_f_others/kitano\\20220617\\220617_001-05.wav\n",
      "220617_001-05\n",
      "C:/Users/kktak/OneDrive/Desktop/pronpt_f_others/kitano\\20220617\\220617_001-06.wav\n",
      "220617_001-06\n",
      "C:/Users/kktak/OneDrive/Desktop/pronpt_f_others/kitano\\20220617\\220617_001-07.wav\n",
      "220617_001-07\n",
      "C:/Users/kktak/OneDrive/Desktop/pronpt_f_others/kitano\\20220617\\220617_001-08.wav\n",
      "220617_001-08\n",
      "C:/Users/kktak/OneDrive/Desktop/pronpt_f_others/kitano\\20220617\\220617_001-09.wav\n",
      "220617_001-09\n",
      "C:/Users/kktak/OneDrive/Desktop/pronpt_f_others/kitano\\20220617\\220617_001-10.wav\n",
      "220617_001-10\n",
      "C:/Users/kktak/OneDrive/Desktop/pronpt_f_others/kitano\\20220617\\220617_001-11.wav\n",
      "220617_001-11\n",
      "C:/Users/kktak/OneDrive/Desktop/pronpt_f_others/kitano\\20220617\\220617_001-12.wav\n",
      "220617_001-12\n",
      "C:/Users/kktak/OneDrive/Desktop/pronpt_f_others/kitano\\20220617\\220617_001-13.wav\n",
      "220617_001-13\n",
      "C:/Users/kktak/OneDrive/Desktop/pronpt_f_others/kitano\\20220617\\220617_001-14.wav\n",
      "220617_001-14\n",
      "C:/Users/kktak/OneDrive/Desktop/pronpt_f_others/kitano\\20220617\\220617_001-15.wav\n",
      "220617_001-15\n",
      "C:/Users/kktak/OneDrive/Desktop/pronpt_f_others/kitano\\20220617\\220617_001-16.wav\n",
      "220617_001-16\n",
      "C:/Users/kktak/OneDrive/Desktop/pronpt_f_others/kitano\\20220617\\220617_001-17.wav\n",
      "220617_001-17\n",
      "C:/Users/kktak/OneDrive/Desktop/pronpt_f_others/kitano\\20220617\\220617_001-18.wav\n",
      "220617_001-18\n",
      "C:/Users/kktak/OneDrive/Desktop/pronpt_f_others/kitano\\20220617\\220617_001-19.wav\n",
      "220617_001-19\n",
      "C:/Users/kktak/OneDrive/Desktop/pronpt_f_others/kitano\\20220617\\220617_001-20.wav\n",
      "220617_001-20\n",
      "C:/Users/kktak/OneDrive/Desktop/pronpt_f_others/kitano\\20220617\\220617_001-21.wav\n",
      "220617_001-21\n",
      "C:/Users/kktak/OneDrive/Desktop/pronpt_f_others/kitano\\20220930\\220930_014-01.wav\n",
      "220930_014-01\n",
      "C:/Users/kktak/OneDrive/Desktop/pronpt_f_others/kitano\\20220930\\220930_014-02.wav\n",
      "220930_014-02\n",
      "C:/Users/kktak/OneDrive/Desktop/pronpt_f_others/kitano\\20220930\\220930_014-03.wav\n",
      "220930_014-03\n",
      "C:/Users/kktak/OneDrive/Desktop/pronpt_f_others/kitano\\20220930\\220930_014-04.wav\n",
      "220930_014-04\n",
      "C:/Users/kktak/OneDrive/Desktop/pronpt_f_others/kitano\\20220930\\220930_014-05.wav\n",
      "220930_014-05\n",
      "C:/Users/kktak/OneDrive/Desktop/pronpt_f_others/kitano\\20220930\\220930_014-06.wav\n",
      "220930_014-06\n",
      "C:/Users/kktak/OneDrive/Desktop/pronpt_f_others/kitano\\20220930\\220930_014-07.wav\n",
      "220930_014-07\n",
      "C:/Users/kktak/OneDrive/Desktop/pronpt_f_others/kitano\\20220930\\220930_014-08.wav\n",
      "220930_014-08\n",
      "C:/Users/kktak/OneDrive/Desktop/pronpt_f_others/kitano\\20220930\\220930_014-09.wav\n",
      "220930_014-09\n",
      "C:/Users/kktak/OneDrive/Desktop/pronpt_f_others/kitano\\20220930\\220930_014-10.wav\n",
      "220930_014-10\n",
      "C:/Users/kktak/OneDrive/Desktop/pronpt_f_others/kitano\\20220930\\220930_014-11.wav\n",
      "220930_014-11\n",
      "C:/Users/kktak/OneDrive/Desktop/pronpt_f_others/kitano\\20220930\\220930_014-12.wav\n",
      "220930_014-12\n",
      "C:/Users/kktak/OneDrive/Desktop/pronpt_f_others/kitano\\20220930\\220930_014-13.wav\n",
      "220930_014-13\n",
      "C:/Users/kktak/OneDrive/Desktop/pronpt_f_others/kitano\\20220930\\220930_014-14.wav\n",
      "220930_014-14\n",
      "C:/Users/kktak/OneDrive/Desktop/pronpt_f_others/kitano\\20220930\\220930_014-15.wav\n",
      "220930_014-15\n",
      "C:/Users/kktak/OneDrive/Desktop/pronpt_f_others/kitano\\20220930\\220930_014-16.wav\n",
      "220930_014-16\n",
      "C:/Users/kktak/OneDrive/Desktop/pronpt_f_others/kitano\\20220930\\220930_014-17.wav\n",
      "220930_014-17\n",
      "C:/Users/kktak/OneDrive/Desktop/pronpt_f_others/kitano\\20220930\\220930_014-18.wav\n",
      "220930_014-18\n",
      "C:/Users/kktak/OneDrive/Desktop/pronpt_f_others/kitano\\20220930\\220930_014-19.wav\n",
      "220930_014-19\n",
      "C:/Users/kktak/OneDrive/Desktop/pronpt_f_others/kitano\\20220930\\220930_014-20.wav\n",
      "220930_014-20\n",
      "deir_name = kitano\n",
      "deir_name = C:/Users/kktak/OneDrive/Desktop/pronpt_f_others/kitano/20211029/201110.wav\n"
     ]
    },
    {
     "name": "stderr",
     "output_type": "stream",
     "text": [
      "c:\\Users\\kktak\\anaconda3\\envs\\myenv\\lib\\site-packages\\pydub\\utils.py:198: RuntimeWarning: Couldn't find ffprobe or avprobe - defaulting to ffprobe, but may not work\n",
      "  warn(\"Couldn't find ffprobe or avprobe - defaulting to ffprobe, but may not work\", RuntimeWarning)\n"
     ]
    },
    {
     "ename": "FileNotFoundError",
     "evalue": "[WinError 2] 指定されたファイルが見つかりません。",
     "output_type": "error",
     "traceback": [
      "\u001b[1;31m---------------------------------------------------------------------------\u001b[0m",
      "\u001b[1;31mFileNotFoundError\u001b[0m                         Traceback (most recent call last)",
      "\u001b[1;32mセル3 を c:\\Users\\kktak\\OneDrive - Osaka University\\PopNoiseVerification\\segmentation-kit\\main3.ipynb\u001b[0m in \u001b[0;36m<cell line: 6>\u001b[1;34m()\u001b[0m\n\u001b[0;32m     <a href='vscode-notebook-cell:/c%3A/Users/kktak/OneDrive%20-%20Osaka%20University/PopNoiseVerification/segmentation-kit/main3.ipynb#W2sZmlsZQ%3D%3D?line=36'>37</a>\u001b[0m     \u001b[39mprint\u001b[39m(\u001b[39mf\u001b[39m\u001b[39m\"\u001b[39m\u001b[39mdeir_name = \u001b[39m\u001b[39m{\u001b[39;00mdir_name\u001b[39m}\u001b[39;00m\u001b[39m\"\u001b[39m)\n\u001b[0;32m     <a href='vscode-notebook-cell:/c%3A/Users/kktak/OneDrive%20-%20Osaka%20University/PopNoiseVerification/segmentation-kit/main3.ipynb#W2sZmlsZQ%3D%3D?line=37'>38</a>\u001b[0m     \u001b[39mprint\u001b[39m(\u001b[39mf\u001b[39m\u001b[39m\"\u001b[39m\u001b[39mdeir_name = \u001b[39m\u001b[39m{\u001b[39;00mpath_name\u001b[39m}\u001b[39;00m\u001b[39m\"\u001b[39m)\n\u001b[1;32m---> <a href='vscode-notebook-cell:/c%3A/Users/kktak/OneDrive%20-%20Osaka%20University/PopNoiseVerification/segmentation-kit/main3.ipynb#W2sZmlsZQ%3D%3D?line=38'>39</a>\u001b[0m     result \u001b[39m=\u001b[39m my_func3\u001b[39m.\u001b[39;49mpnd(dir_name,path_name)\n\u001b[0;32m     <a href='vscode-notebook-cell:/c%3A/Users/kktak/OneDrive%20-%20Osaka%20University/PopNoiseVerification/segmentation-kit/main3.ipynb#W2sZmlsZQ%3D%3D?line=39'>40</a>\u001b[0m     pho_PNene \u001b[39m=\u001b[39m pd\u001b[39m.\u001b[39mconcat([pho_PNene,result], axis\u001b[39m=\u001b[39m\u001b[39m0\u001b[39m)\n\u001b[0;32m     <a href='vscode-notebook-cell:/c%3A/Users/kktak/OneDrive%20-%20Osaka%20University/PopNoiseVerification/segmentation-kit/main3.ipynb#W2sZmlsZQ%3D%3D?line=41'>42</a>\u001b[0m \u001b[39m#処理中に作成したwavファイルを全て削除する →　新しいwavフォルダの作成\u001b[39;00m\n",
      "File \u001b[1;32mc:\\Users\\kktak\\OneDrive - Osaka University\\PopNoiseVerification\\segmentation-kit\\my_func3.py:185\u001b[0m, in \u001b[0;36mpnd\u001b[1;34m(name, input_path)\u001b[0m\n\u001b[0;32m    182\u001b[0m out_path \u001b[39m=\u001b[39m os\u001b[39m.\u001b[39mpath\u001b[39m.\u001b[39mjoin(\u001b[39m'\u001b[39m\u001b[39mcut_wav/temp_cut.wav\u001b[39m\u001b[39m'\u001b[39m)\n\u001b[0;32m    184\u001b[0m \u001b[39m# wavファイルの読み込み\u001b[39;00m\n\u001b[1;32m--> 185\u001b[0m sound \u001b[39m=\u001b[39m AudioSegment\u001b[39m.\u001b[39;49mfrom_wav(input_path)\n\u001b[0;32m    187\u001b[0m \u001b[39m# 音声区間のみを抽出\u001b[39;00m\n\u001b[0;32m    188\u001b[0m sound1 \u001b[39m=\u001b[39m sound[speech_sta\u001b[39m*\u001b[39m\u001b[39m1000\u001b[39m:speech_end\u001b[39m*\u001b[39m\u001b[39m1000\u001b[39m]\n",
      "File \u001b[1;32mc:\\Users\\kktak\\anaconda3\\envs\\myenv\\lib\\site-packages\\pydub\\audio_segment.py:808\u001b[0m, in \u001b[0;36mAudioSegment.from_wav\u001b[1;34m(cls, file, parameters)\u001b[0m\n\u001b[0;32m    806\u001b[0m \u001b[39m@classmethod\u001b[39m\n\u001b[0;32m    807\u001b[0m \u001b[39mdef\u001b[39;00m \u001b[39mfrom_wav\u001b[39m(\u001b[39mcls\u001b[39m, file, parameters\u001b[39m=\u001b[39m\u001b[39mNone\u001b[39;00m):\n\u001b[1;32m--> 808\u001b[0m     \u001b[39mreturn\u001b[39;00m \u001b[39mcls\u001b[39;49m\u001b[39m.\u001b[39;49mfrom_file(file, \u001b[39m'\u001b[39;49m\u001b[39mwav\u001b[39;49m\u001b[39m'\u001b[39;49m, parameters\u001b[39m=\u001b[39;49mparameters)\n",
      "File \u001b[1;32mc:\\Users\\kktak\\anaconda3\\envs\\myenv\\lib\\site-packages\\pydub\\audio_segment.py:728\u001b[0m, in \u001b[0;36mAudioSegment.from_file\u001b[1;34m(cls, file, format, codec, parameters, start_second, duration, **kwargs)\u001b[0m\n\u001b[0;32m    726\u001b[0m     info \u001b[39m=\u001b[39m \u001b[39mNone\u001b[39;00m\n\u001b[0;32m    727\u001b[0m \u001b[39melse\u001b[39;00m:\n\u001b[1;32m--> 728\u001b[0m     info \u001b[39m=\u001b[39m mediainfo_json(orig_file, read_ahead_limit\u001b[39m=\u001b[39;49mread_ahead_limit)\n\u001b[0;32m    729\u001b[0m \u001b[39mif\u001b[39;00m info:\n\u001b[0;32m    730\u001b[0m     audio_streams \u001b[39m=\u001b[39m [x \u001b[39mfor\u001b[39;00m x \u001b[39min\u001b[39;00m info[\u001b[39m'\u001b[39m\u001b[39mstreams\u001b[39m\u001b[39m'\u001b[39m]\n\u001b[0;32m    731\u001b[0m                      \u001b[39mif\u001b[39;00m x[\u001b[39m'\u001b[39m\u001b[39mcodec_type\u001b[39m\u001b[39m'\u001b[39m] \u001b[39m==\u001b[39m \u001b[39m'\u001b[39m\u001b[39maudio\u001b[39m\u001b[39m'\u001b[39m]\n",
      "File \u001b[1;32mc:\\Users\\kktak\\anaconda3\\envs\\myenv\\lib\\site-packages\\pydub\\utils.py:274\u001b[0m, in \u001b[0;36mmediainfo_json\u001b[1;34m(filepath, read_ahead_limit)\u001b[0m\n\u001b[0;32m    271\u001b[0m         file\u001b[39m.\u001b[39mclose()\n\u001b[0;32m    273\u001b[0m command \u001b[39m=\u001b[39m [prober, \u001b[39m'\u001b[39m\u001b[39m-of\u001b[39m\u001b[39m'\u001b[39m, \u001b[39m'\u001b[39m\u001b[39mjson\u001b[39m\u001b[39m'\u001b[39m] \u001b[39m+\u001b[39m command_args\n\u001b[1;32m--> 274\u001b[0m res \u001b[39m=\u001b[39m Popen(command, stdin\u001b[39m=\u001b[39;49mstdin_parameter, stdout\u001b[39m=\u001b[39;49mPIPE, stderr\u001b[39m=\u001b[39;49mPIPE)\n\u001b[0;32m    275\u001b[0m output, stderr \u001b[39m=\u001b[39m res\u001b[39m.\u001b[39mcommunicate(\u001b[39minput\u001b[39m\u001b[39m=\u001b[39mstdin_data)\n\u001b[0;32m    276\u001b[0m output \u001b[39m=\u001b[39m output\u001b[39m.\u001b[39mdecode(\u001b[39m\"\u001b[39m\u001b[39mutf-8\u001b[39m\u001b[39m\"\u001b[39m, \u001b[39m'\u001b[39m\u001b[39mignore\u001b[39m\u001b[39m'\u001b[39m)\n",
      "File \u001b[1;32mc:\\Users\\kktak\\anaconda3\\envs\\myenv\\lib\\subprocess.py:951\u001b[0m, in \u001b[0;36mPopen.__init__\u001b[1;34m(self, args, bufsize, executable, stdin, stdout, stderr, preexec_fn, close_fds, shell, cwd, env, universal_newlines, startupinfo, creationflags, restore_signals, start_new_session, pass_fds, user, group, extra_groups, encoding, errors, text, umask)\u001b[0m\n\u001b[0;32m    947\u001b[0m         \u001b[39mif\u001b[39;00m \u001b[39mself\u001b[39m\u001b[39m.\u001b[39mtext_mode:\n\u001b[0;32m    948\u001b[0m             \u001b[39mself\u001b[39m\u001b[39m.\u001b[39mstderr \u001b[39m=\u001b[39m io\u001b[39m.\u001b[39mTextIOWrapper(\u001b[39mself\u001b[39m\u001b[39m.\u001b[39mstderr,\n\u001b[0;32m    949\u001b[0m                     encoding\u001b[39m=\u001b[39mencoding, errors\u001b[39m=\u001b[39merrors)\n\u001b[1;32m--> 951\u001b[0m     \u001b[39mself\u001b[39;49m\u001b[39m.\u001b[39;49m_execute_child(args, executable, preexec_fn, close_fds,\n\u001b[0;32m    952\u001b[0m                         pass_fds, cwd, env,\n\u001b[0;32m    953\u001b[0m                         startupinfo, creationflags, shell,\n\u001b[0;32m    954\u001b[0m                         p2cread, p2cwrite,\n\u001b[0;32m    955\u001b[0m                         c2pread, c2pwrite,\n\u001b[0;32m    956\u001b[0m                         errread, errwrite,\n\u001b[0;32m    957\u001b[0m                         restore_signals,\n\u001b[0;32m    958\u001b[0m                         gid, gids, uid, umask,\n\u001b[0;32m    959\u001b[0m                         start_new_session)\n\u001b[0;32m    960\u001b[0m \u001b[39mexcept\u001b[39;00m:\n\u001b[0;32m    961\u001b[0m     \u001b[39m# Cleanup if the child failed starting.\u001b[39;00m\n\u001b[0;32m    962\u001b[0m     \u001b[39mfor\u001b[39;00m f \u001b[39min\u001b[39;00m \u001b[39mfilter\u001b[39m(\u001b[39mNone\u001b[39;00m, (\u001b[39mself\u001b[39m\u001b[39m.\u001b[39mstdin, \u001b[39mself\u001b[39m\u001b[39m.\u001b[39mstdout, \u001b[39mself\u001b[39m\u001b[39m.\u001b[39mstderr)):\n",
      "File \u001b[1;32mc:\\Users\\kktak\\anaconda3\\envs\\myenv\\lib\\subprocess.py:1420\u001b[0m, in \u001b[0;36mPopen._execute_child\u001b[1;34m(self, args, executable, preexec_fn, close_fds, pass_fds, cwd, env, startupinfo, creationflags, shell, p2cread, p2cwrite, c2pread, c2pwrite, errread, errwrite, unused_restore_signals, unused_gid, unused_gids, unused_uid, unused_umask, unused_start_new_session)\u001b[0m\n\u001b[0;32m   1418\u001b[0m \u001b[39m# Start the process\u001b[39;00m\n\u001b[0;32m   1419\u001b[0m \u001b[39mtry\u001b[39;00m:\n\u001b[1;32m-> 1420\u001b[0m     hp, ht, pid, tid \u001b[39m=\u001b[39m _winapi\u001b[39m.\u001b[39;49mCreateProcess(executable, args,\n\u001b[0;32m   1421\u001b[0m                              \u001b[39m# no special security\u001b[39;49;00m\n\u001b[0;32m   1422\u001b[0m                              \u001b[39mNone\u001b[39;49;00m, \u001b[39mNone\u001b[39;49;00m,\n\u001b[0;32m   1423\u001b[0m                              \u001b[39mint\u001b[39;49m(\u001b[39mnot\u001b[39;49;00m close_fds),\n\u001b[0;32m   1424\u001b[0m                              creationflags,\n\u001b[0;32m   1425\u001b[0m                              env,\n\u001b[0;32m   1426\u001b[0m                              cwd,\n\u001b[0;32m   1427\u001b[0m                              startupinfo)\n\u001b[0;32m   1428\u001b[0m \u001b[39mfinally\u001b[39;00m:\n\u001b[0;32m   1429\u001b[0m     \u001b[39m# Child is launched. Close the parent's copy of those pipe\u001b[39;00m\n\u001b[0;32m   1430\u001b[0m     \u001b[39m# handles that only the child should have open.  You need\u001b[39;00m\n\u001b[1;32m   (...)\u001b[0m\n\u001b[0;32m   1433\u001b[0m     \u001b[39m# pipe will not close when the child process exits and the\u001b[39;00m\n\u001b[0;32m   1434\u001b[0m     \u001b[39m# ReadFile will hang.\u001b[39;00m\n\u001b[0;32m   1435\u001b[0m     \u001b[39mself\u001b[39m\u001b[39m.\u001b[39m_close_pipe_fds(p2cread, p2cwrite,\n\u001b[0;32m   1436\u001b[0m                          c2pread, c2pwrite,\n\u001b[0;32m   1437\u001b[0m                          errread, errwrite)\n",
      "\u001b[1;31mFileNotFoundError\u001b[0m: [WinError 2] 指定されたファイルが見つかりません。"
     ]
    }
   ],
   "source": [
    "\n",
    "#PNデータ格納用\n",
    "pho_PNene = pd.DataFrame()\n",
    "\n",
    "\n",
    "#各フォルダから音声データ（.wav）のpathを入手\n",
    "for dir_name in dir_list:\n",
    "    # 全てのwavファイルのパスをpathlistに格納 / **の部分があらゆる中間ディレクトリに対応\n",
    "    pathlist = glob.glob(dir_path+'/'+ dir_name + '/**/*.wav', recursive=True)\n",
    "    \n",
    "    #各wav音声ファイルに対応するテキストファイルを作成する / wavファイルをJulius用にダウンサンプリング（44.1kHz　to 16kHz）する\n",
    "    for path_name in pathlist:\n",
    "        print(path_name)\n",
    "        file_name = os.path.splitext(os.path.basename(path_name))[0]\n",
    "        print(file_name)\n",
    "\n",
    "        #テキストファイルをまとめて入れるためのフォルダを作成する\n",
    "        new_txt_path = 'wav/{}.txt'.format(file_name)\n",
    "        f = open(new_txt_path, 'w', encoding = 'utf8')\n",
    "        f.write('{}'.format(phrase)) #日本語フレーズをテキストに記入\n",
    "        f.close()\n",
    "\n",
    "        # サンプリングレート44.1kHzのwavを16kHzに変換する\n",
    "        y, sr = librosa.core.load(path_name, sr=16000, mono=False) # 16kHz、モノラル(1ch)ではなくステレオ（2ch）で読み込み\n",
    "        new_wav_path = 'wav/{}.wav'.format(file_name)\n",
    "        y = y[0] #こっちがclean音声なので、segmentationにわたす\n",
    "        sf.write(new_wav_path, y, sr, subtype=\"PCM_16\") #16bitで書き込み\n",
    "        \n",
    "    #Julius-segmentationを実行\n",
    "    subprocess.run(['perl','segment_julius.pl'], stdout = subprocess.PIPE, stderr = subprocess.PIPE,shell = True)\n",
    "\n",
    "\n",
    "    # 全てのwavファイルのパスをpathlistに格納 / **の部分があらゆる中間ディレクトリに対応\n",
    "    pathlist = glob.glob(dir_path+'/' + dir_name + '/**/*.wav', recursive=True)\n",
    "    \n",
    "    for path_name in pathlist:\n",
    "        path_name = path_name.replace('\\\\','/')\n",
    "        print(f\"deir_name = {dir_name}\")\n",
    "        print(f\"deir_name = {path_name}\")\n",
    "        result = my_func3.pnd(dir_name,path_name)\n",
    "        pho_PNene = pd.concat([pho_PNene,result], axis=0)\n",
    "\n",
    "    #処理中に作成したwavファイルを全て削除する →　新しいwavフォルダの作成\n",
    "    shutil.rmtree('wav')\n",
    "    os.mkdir('wav')\n",
    "\n",
    "\n",
    "#前回のoutputフォルダをクリア → 新しいフォルダの作成\n",
    "shutil.rmtree('output') \n",
    "os.mkdir('output') \n",
    "pho_PNene.to_excel('output/output.xlsx',index=False, header=pho_PNene.columns)\n",
    "\n"
   ]
  },
  {
   "cell_type": "code",
   "execution_count": null,
   "metadata": {},
   "outputs": [],
   "source": [
    "#wavフォルダのリセット用\n",
    "import shutil\n",
    "\n",
    "shutil.rmtree('wav')\n",
    "os.mkdir('wav')"
   ]
  }
 ],
 "metadata": {
  "kernelspec": {
   "display_name": "Python 3.9.12 64-bit",
   "language": "python",
   "name": "python3"
  },
  "language_info": {
   "codemirror_mode": {
    "name": "ipython",
    "version": 3
   },
   "file_extension": ".py",
   "mimetype": "text/x-python",
   "name": "python",
   "nbconvert_exporter": "python",
   "pygments_lexer": "ipython3",
   "version": "3.9.12"
  },
  "orig_nbformat": 4,
  "vscode": {
   "interpreter": {
    "hash": "b0fa6594d8f4cbf19f97940f81e996739fb7646882a419484c72d19e05852a7e"
   }
  }
 },
 "nbformat": 4,
 "nbformat_minor": 2
}
