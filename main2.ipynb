{
 "cells": [
  {
   "cell_type": "markdown",
   "metadata": {},
   "source": [
    "指定したフォルダ（input_wav）内のwav音声全てからPNデータを導出してexcelに記録する（発話内容は事前に指定）"
   ]
  },
  {
   "cell_type": "code",
   "execution_count": null,
   "metadata": {},
   "outputs": [],
   "source": [
    "##ここだけ設定する---------------------------------------------------------------------\n",
    "##フレーズを先に指定する\n",
    "phrase = 'そんしつにめげないこうみん' #プロンプト文 f\n",
    "# phrase = 'おおどおりにめんしたまますいみん' #プロンプト文 b\n",
    "# phrase = 'のびるさんすいほーすはそんあいつぐせつびふび' #プロンプト文 a\n",
    "##-----------------------------------------------------------------------------------"
   ]
  },
  {
   "cell_type": "code",
   "execution_count": null,
   "metadata": {},
   "outputs": [],
   "source": [
    "#NumPyが新しすぎるとlibrosaでエラーが発生するので、以下のコマンドでダウングレードする\n",
    "#pip install --upgrade  NumPy==1.22\n",
    "\n",
    "#同じ発話内容のWav発話音声を入力し、それぞれに対応するtextファイルを自動生成する\n",
    "#すべてのwavファイルをコピーしてダウンサンプリングしたものと、作成したtextファイルを全てjulius-segmentation-kitのwavフォルダに入れる\n",
    "\n",
    "import os, glob\n",
    "import librosa\n",
    "# from librosa import core\n",
    "import soundfile as sf\n",
    "import pandas as pd\n",
    "import subprocess\n",
    "\n",
    "import tkinter as tk\n",
    "from tkinter import filedialog\n",
    "\n",
    "#フォルダ名を取得\n",
    "root = tk.Tk()# ルートウィンドウ作成\n",
    "root.withdraw()# ルートウィンドウの非表示\n",
    "idir =  './' #カレントディレクトリ\n",
    "dir_path = tk.filedialog.askdirectory(initialdir = idir)\n",
    "# dir_path = '../../音源/f/prompt_f_sonsitsu/'\n",
    "dir_list = os.listdir(dir_path)\n",
    "print(dir_list)\n",
    "\n",
    "#各フォルダから音声データ（.wav）のpathを入手\n",
    "for dir_name in dir_list:\n",
    "    # 全てのwavファイルのパスをpathlistに格納 / **の部分があらゆる中間ディレクトリに対応\n",
    "    pathlist = glob.glob(dir_path+'/'+ dir_name + '/**/*.wav', recursive=True)\n",
    "    \n",
    "    #各wav音声ファイルに対応するテキストファイルを作成する / wavファイルをJulius用にダウンサンプリング（44.1kHz　to 16kHz）する\n",
    "    for path_name in pathlist:\n",
    "        print(path_name)\n",
    "        file_name = os.path.splitext(os.path.basename(path_name))[0]\n",
    "        print(file_name)\n",
    "\n",
    "        #テキストファイルをまとめて入れるためのフォルダを作成する\n",
    "        new_txt_path = 'wav/{}.txt'.format(file_name)\n",
    "        f = open(new_txt_path, 'w', encoding = 'utf8')\n",
    "        f.write('{}'.format(phrase)) #日本語フレーズをテキストに記入\n",
    "        f.close()\n",
    "\n",
    "        # サンプリングレート44.1kHzのwavを16kHzに変換する\n",
    "        y, sr = librosa.core.load(path_name, sr=16000, mono=False) # 16kHz、モノラル(1ch)ではなくステレオ（2ch）で読み込み\n",
    "        new_wav_path = 'wav/{}.wav'.format(file_name)\n",
    "        y = y[0] #こっちがclean音声なので、segmentationにわたす\n",
    "        sf.write(new_wav_path, y, sr, subtype=\"PCM_16\") #16bitで書き込み\n",
    "        \n"
   ]
  },
  {
   "cell_type": "code",
   "execution_count": null,
   "metadata": {},
   "outputs": [],
   "source": [
    "#Julius-segmentationを実行\n",
    "subprocess.run(['perl','segment_julius.pl'], stdout = subprocess.PIPE, stderr = subprocess.PIPE,shell = True)"
   ]
  },
  {
   "cell_type": "code",
   "execution_count": null,
   "metadata": {},
   "outputs": [],
   "source": [
    "#実行結果の「.lab」ファイルと元の音源(44.1kHz)からPNデータを導出し、DB（excel）に記録する。\n",
    "import shutil\n",
    "import my_func3 #自作のPND関数を呼び出す\n",
    "\n",
    "#PNデータ格納用\n",
    "pho_PNene = pd.DataFrame()\n",
    "\n",
    "#各フォルダから音声データ（.wav）のpathを入手\n",
    "for dir_name in dir_list:\n",
    "    # 全てのwavファイルのパスをpathlistに格納 / **の部分があらゆる中間ディレクトリに対応\n",
    "    pathlist = glob.glob(dir_path+'/' + dir_name + '/**/*.wav', recursive=True)\n",
    "    \n",
    "    for path_name in pathlist:\n",
    "        path_name = path_name.replace('\\\\','/')\n",
    "        print(f\"deir_name = {dir_name}\")\n",
    "        print(f\"deir_name = {path_name}\")\n",
    "        result = my_func3.pnd(dir_name,path_name)\n",
    "        pho_PNene = pd.concat([pho_PNene,result], axis=0)\n",
    "\n",
    "\n",
    "#前回のoutputフォルダをクリア → 新しいフォルダの作成\n",
    "shutil.rmtree('output') \n",
    "os.mkdir('output') \n",
    "pho_PNene.to_excel('output/output.xlsx',index=False, header=pho_PNene.columns)\n",
    "\n",
    "#処理中に作成したwavファイルを全て削除する →　新しいwavフォルダの作成\n",
    "shutil.rmtree('wav')\n",
    "os.mkdir('wav')"
   ]
  }
 ],
 "metadata": {
  "kernelspec": {
   "display_name": "Python 3.9.12 ('myenv')",
   "language": "python",
   "name": "python3"
  },
  "language_info": {
   "codemirror_mode": {
    "name": "ipython",
    "version": 3
   },
   "file_extension": ".py",
   "mimetype": "text/x-python",
   "name": "python",
   "nbconvert_exporter": "python",
   "pygments_lexer": "ipython3",
   "version": "3.9.12"
  },
  "orig_nbformat": 4,
  "vscode": {
   "interpreter": {
    "hash": "b9be4ecf491ae9f70b685324f1f1f604ffbefa02b1383b83a7c51bb175c0f0a8"
   }
  }
 },
 "nbformat": 4,
 "nbformat_minor": 2
}
