{
 "cells": [
  {
   "cell_type": "markdown",
   "metadata": {},
   "source": [
    "指定したフォルダ内のwav音声全てからPNデータを導出してDBに記録する（発話内容は事前に指定）"
   ]
  },
  {
   "cell_type": "code",
   "execution_count": null,
   "metadata": {},
   "outputs": [],
   "source": [
    "import tkinter as tk\n",
    "from tkinter import filedialog\n",
    "# ルートウィンドウ作成\n",
    "root = tk.Tk()\n",
    "# ルートウィンドウの非表示\n",
    "root.withdraw()\n",
    "idir =  './' #カレントディレクトリ\n",
    "# idir =  '/Users/kentatakemae/Desktop/Workplace/Project_PopNoise_python'\n",
    "dir_path = tk.filedialog.askdirectory(initialdir = idir)\n",
    "\n",
    "print(dir_path)"
   ]
  },
  {
   "cell_type": "code",
   "execution_count": null,
   "metadata": {},
   "outputs": [],
   "source": [
    "#同じ発話内容のWav発話音声を入力し、それぞれに対応するtextファイルを自動生成する\n",
    "#すべてのwavファイルをコピーしてダウンサンプリングしたものと、作成したtextファイルを全てjulius-segmentation-kitのwavフォルダに入れる\n",
    "\n",
    "import os, glob\n",
    "import librosa\n",
    "import soundfile as sf\n",
    "import pandas as pd\n",
    "\n",
    "\n",
    "phrase = 'そんしつにめげないこうみん'\n",
    "\n",
    "# #後で消す！！！---------------------------------------------------------------------\n",
    "# dir_path = 'input_data' \n",
    "# #---------------------------------------------------------------------------------\n",
    "\n",
    "\n",
    "# # ワイルドカードで条件を満たすパスの文字列を指定\n",
    "# pathlist = glob.glob(dir_path + '/*.wav')\n",
    "\n",
    "# 全てのwavファイルのパスをpathlistに格納 / **の部分があらゆる中間ディレクトリに対応\n",
    "pathlist = glob.glob(dir_path  + '/**/*.wav', recursive=True)\n",
    "\n",
    "\n",
    "\n",
    "\n",
    "#各wav音声ファイルに対応するテキストファイルを作成する / wavファイルをJulius用にダウンサンプリング（44.1kHz　to 16kHz）する\n",
    "for path_name in pathlist:\n",
    "    print(path_name)\n",
    "    file_name = os.path.splitext(os.path.basename(path_name))[0]\n",
    "    print(file_name)\n",
    "\n",
    "    #テキストファイルをまとめて入れるためのフォルダを作成する\n",
    "    new_txt_path = 'wav/{}.txt'.format(file_name)\n",
    "    f = open(new_txt_path, 'w', encoding = 'utf8')\n",
    "    f.write('{}'.format(phrase)) #日本語フレーズをテキストに記入\n",
    "    f.close()\n",
    "\n",
    "    # サンプリングレート44.1kHzのwavを16kHzに変換する\n",
    "    y, sr = librosa.core.load(path_name, sr=16000, mono=True) # 16kHz、モノラルで読み込み\n",
    "    new_wav_path = 'wav/{}.wav'.format(file_name)\n",
    "    sf.write(new_wav_path, y, sr, subtype=\"PCM_16\") #16bitで書き込み\n"
   ]
  },
  {
   "cell_type": "code",
   "execution_count": null,
   "metadata": {},
   "outputs": [],
   "source": [
    "#Julius-segmentationを実行\n",
    "import subprocess\n",
    "\n",
    "# o = subprocess.run(['perl','test.pl'],stdout = subprocess.PIPE, stderr = subprocess.PIPE, shell = True)\n",
    "# o.stdout\n",
    "subprocess.run(['perl','segment_julius.pl'], stdout = subprocess.PIPE, stderr = subprocess.PIPE,shell = True)"
   ]
  },
  {
   "cell_type": "code",
   "execution_count": null,
   "metadata": {},
   "outputs": [],
   "source": [
    "#実行結果の「.lab」ファイルと元の音源(44.1kHz)からPNデータを導出し、DBに記録する。\n",
    "\n",
    "#自作のPND関数を呼び出す\n",
    "import my_func\n",
    "\n",
    "# # ファイル名のみを取得\n",
    "# namelist = [os.path.basename(p) for p in glob.glob(dir_path + '/**', recursive=True) if os.path.isfile(p)]\n",
    "\n",
    "pho_PNene = pd.DataFrame()\n",
    "for path_name in pathlist:\n",
    "    # file_name = os.path.splitext(os.path.basename(path_name))[0]\n",
    "    # print(file_name)\n",
    "    result = my_func.pnd(path_name)\n",
    "    # print(pho_PNene)\n",
    "    # print(result['PN-energy'])\n",
    "    pho_PNene = pd.concat([pho_PNene,result['PN-energy']], axis=1)\n",
    "\n",
    "\n",
    "import shutil\n",
    "shutil.rmtree('output') #\n",
    "os.mkdir('output') #新しいフォルダの作成\n",
    "pho_PNene['PN-energy'].T.to_excel('output/output.xlsx',index=False, header=False)\n",
    "\n",
    "#DBのパスを指定\n"
   ]
  },
  {
   "cell_type": "code",
   "execution_count": null,
   "metadata": {},
   "outputs": [],
   "source": [
    "#処理中に作成したファイルを全て削除する\n",
    "import shutil\n",
    "shutil.rmtree('wav')\n",
    "\n",
    "#新しいフォルダの作成\n",
    "os.mkdir('wav')"
   ]
  }
 ],
 "metadata": {
  "kernelspec": {
   "display_name": "Python 3.9.12 ('myenv')",
   "language": "python",
   "name": "python3"
  },
  "language_info": {
   "codemirror_mode": {
    "name": "ipython",
    "version": 3
   },
   "file_extension": ".py",
   "mimetype": "text/x-python",
   "name": "python",
   "nbconvert_exporter": "python",
   "pygments_lexer": "ipython3",
   "version": "3.9.12"
  },
  "orig_nbformat": 4,
  "vscode": {
   "interpreter": {
    "hash": "b9be4ecf491ae9f70b685324f1f1f604ffbefa02b1383b83a7c51bb175c0f0a8"
   }
  }
 },
 "nbformat": 4,
 "nbformat_minor": 2
}
